{
 "cells": [
  {
   "cell_type": "code",
   "execution_count": null,
   "id": "480addc9",
   "metadata": {},
   "outputs": [
    {
     "name": "stderr",
     "output_type": "stream",
     "text": [
      "2025-06-14 21:38:22.008 Thread 'MainThread': missing ScriptRunContext! This warning can be ignored when running in bare mode.\n",
      "2025-06-14 21:38:22.008 Thread 'MainThread': missing ScriptRunContext! This warning can be ignored when running in bare mode.\n",
      "2025-06-14 21:38:22.015 Thread 'MainThread': missing ScriptRunContext! This warning can be ignored when running in bare mode.\n",
      "2025-06-14 21:38:22.016 Thread 'MainThread': missing ScriptRunContext! This warning can be ignored when running in bare mode.\n",
      "2025-06-14 21:38:22.019 Thread 'MainThread': missing ScriptRunContext! This warning can be ignored when running in bare mode.\n",
      "2025-06-14 21:38:22.021 Thread 'MainThread': missing ScriptRunContext! This warning can be ignored when running in bare mode.\n",
      "2025-06-14 21:38:22.022 Thread 'MainThread': missing ScriptRunContext! This warning can be ignored when running in bare mode.\n",
      "2025-06-14 21:38:22.024 Thread 'MainThread': missing ScriptRunContext! This warning can be ignored when running in bare mode.\n",
      "2025-06-14 21:38:22.024 Thread 'MainThread': missing ScriptRunContext! This warning can be ignored when running in bare mode.\n",
      "2025-06-14 21:38:22.024 Thread 'MainThread': missing ScriptRunContext! This warning can be ignored when running in bare mode.\n",
      "2025-06-14 21:38:22.032 Thread 'MainThread': missing ScriptRunContext! This warning can be ignored when running in bare mode.\n",
      "2025-06-14 21:38:22.032 Thread 'MainThread': missing ScriptRunContext! This warning can be ignored when running in bare mode.\n",
      "2025-06-14 21:38:22.040 Thread 'MainThread': missing ScriptRunContext! This warning can be ignored when running in bare mode.\n",
      "2025-06-14 21:38:22.040 Thread 'MainThread': missing ScriptRunContext! This warning can be ignored when running in bare mode.\n",
      "2025-06-14 21:38:22.040 Thread 'MainThread': missing ScriptRunContext! This warning can be ignored when running in bare mode.\n",
      "2025-06-14 21:38:22.046 Thread 'MainThread': missing ScriptRunContext! This warning can be ignored when running in bare mode.\n",
      "2025-06-14 21:38:22.048 Thread 'MainThread': missing ScriptRunContext! This warning can be ignored when running in bare mode.\n",
      "2025-06-14 21:38:22.048 Thread 'MainThread': missing ScriptRunContext! This warning can be ignored when running in bare mode.\n",
      "2025-06-14 21:38:22.048 Thread 'MainThread': missing ScriptRunContext! This warning can be ignored when running in bare mode.\n",
      "2025-06-14 21:38:22.048 Thread 'MainThread': missing ScriptRunContext! This warning can be ignored when running in bare mode.\n",
      "2025-06-14 21:38:22.048 Thread 'MainThread': missing ScriptRunContext! This warning can be ignored when running in bare mode.\n",
      "2025-06-14 21:38:22.048 Thread 'MainThread': missing ScriptRunContext! This warning can be ignored when running in bare mode.\n",
      "2025-06-14 21:38:22.056 Thread 'MainThread': missing ScriptRunContext! This warning can be ignored when running in bare mode.\n",
      "2025-06-14 21:38:22.056 Thread 'MainThread': missing ScriptRunContext! This warning can be ignored when running in bare mode.\n",
      "2025-06-14 21:38:22.056 Thread 'MainThread': missing ScriptRunContext! This warning can be ignored when running in bare mode.\n",
      "2025-06-14 21:38:22.065 Thread 'MainThread': missing ScriptRunContext! This warning can be ignored when running in bare mode.\n",
      "2025-06-14 21:38:22.065 Thread 'MainThread': missing ScriptRunContext! This warning can be ignored when running in bare mode.\n",
      "2025-06-14 21:38:22.065 Thread 'MainThread': missing ScriptRunContext! This warning can be ignored when running in bare mode.\n",
      "2025-06-14 21:38:22.065 Thread 'MainThread': missing ScriptRunContext! This warning can be ignored when running in bare mode.\n",
      "2025-06-14 21:38:22.081 Thread 'MainThread': missing ScriptRunContext! This warning can be ignored when running in bare mode.\n",
      "2025-06-14 21:38:22.090 Thread 'MainThread': missing ScriptRunContext! This warning can be ignored when running in bare mode.\n",
      "2025-06-14 21:38:22.090 Thread 'MainThread': missing ScriptRunContext! This warning can be ignored when running in bare mode.\n",
      "2025-06-14 21:38:22.090 Thread 'MainThread': missing ScriptRunContext! This warning can be ignored when running in bare mode.\n",
      "2025-06-14 21:38:22.090 Thread 'MainThread': missing ScriptRunContext! This warning can be ignored when running in bare mode.\n",
      "2025-06-14 21:38:22.090 Thread 'MainThread': missing ScriptRunContext! This warning can be ignored when running in bare mode.\n"
     ]
    },
    {
     "data": {
      "text/plain": [
       "DeltaGenerator()"
      ]
     },
     "execution_count": 3,
     "metadata": {},
     "output_type": "execute_result"
    }
   ],
   "source": [
    "import streamlit as st\n",
    "import pandas as pd\n",
    "\n",
    "# 페이지 제목\n",
    "st.title(\"📌 관심 주제: 인공지능(AI)과 윤리적 기술 개발\")\n",
    "st.write(\"**작성자: 이건희**\")\n",
    "\n",
    "# 섹션 1: 관심 분야\n",
    "st.header(\"🧠 1. 관심 분야 소개: 인공지능(AI)\")\n",
    "st.markdown(\"\"\"\n",
    "저는 인공지능, 특히 생성형 AI에 깊은 관심이 있습니다. 최근 ChatGPT, DALL·E와 같은 기술이 실제 사회에 영향을 끼치는 것을 보며 \n",
    "AI가 단순한 도구를 넘어 **의사결정, 창작, 교육** 등 다양한 영역을 바꾸고 있다는 사실을 느꼈습니다.  \n",
    "제가 흥미를 가지는 주요 분야는 다음과 같습니다:\n",
    "- 자연어 처리(NLP)\n",
    "- 생성형 AI의 윤리 문제\n",
    "- AI를 활용한 사회 문제 해결 (예: 기후 변화 대응, 의료 접근성 향상)\n",
    "\"\"\")\n",
    "\n",
    "# 관심 분야 선택\n",
    "st.selectbox(\"관심 분야를 선택해보세요\", [\"자연어 처리\", \"생성형 AI\", \"윤리적 AI\", \"AI 사회 활용\"])\n",
    "\n",
    "# 섹션 2: 관심 기업\n",
    "st.header(\"🏢 2. 관심 기업: OpenAI\")\n",
    "st.markdown(\"\"\"\n",
    "**OpenAI**는 인공지능의 책임감 있는 개발과 활용을 목표로 하는 기업입니다.  \n",
    "제가 OpenAI에 관심을 갖게 된 이유는 다음과 같습니다:\n",
    "- 사명(Mission): \"모든 인류에게 이익이 되는 범용 인공지능 개발\"\n",
    "- 기술력: GPT, DALL·E, Sora 등 혁신적인 모델 다수 개발\n",
    "- 윤리적 기준: AI의 악용 방지를 위한 강력한 정책과 투명성\n",
    "\"\"\")\n",
    "\n",
    "with st.expander(\"OpenAI 로고 보기\"):\n",
    "    st.image(\"https://upload.wikimedia.org/wikipedia/commons/0/04/OpenAI_Logo.svg\", width=150)\n",
    "\n",
    "# 섹션 3: 나의 목표\n",
    "st.header(\"📈 3. 나의 목표 및 계획\")\n",
    "goals = {\n",
    "    \"단기 목표\": \"파이썬 및 머신러닝 기초 완성, Streamlit 앱 2개 개발\",\n",
    "    \"중기 목표\": \"Kaggle 대회 참가, 오픈소스 프로젝트 기여\",\n",
    "    \"장기 목표\": \"AI 관련 스타트업 인턴십 경험, AI 윤리 연구 병행\"\n",
    "}\n",
    "df_goals = pd.DataFrame(goals.items(), columns=[\"항목\", \"목표\"])\n",
    "st.table(df_goals)\n",
    "\n",
    "# 간단한 차트 (임의의 목표 달성률 예시)\n",
    "st.subheader(\"목표 달성률 시각화 (예시)\")\n",
    "progress = pd.DataFrame({\n",
    "    \"단계\": [\"단기\", \"중기\", \"장기\"],\n",
    "    \"달성률(%)\": [80, 40, 10]\n",
    "})\n",
    "st.bar_chart(progress.set_index(\"단계\"))\n",
    "\n",
    "# 마무리\n",
    "st.header(\"🌐 마무리\")\n",
    "st.markdown(\"\"\"\n",
    "기술은 도구입니다. 저는 **\"기술이 사람을 해치지 않게 만드는 기술자\"**가 되고 싶습니다.  \n",
    "이 블로그 프로젝트를 통해 제 관심사를 정리하고, 앞으로의 방향을 더 구체화할 수 있었습니다.\n",
    "\"\"\")"
   ]
  }
 ],
 "metadata": {
  "kernelspec": {
   "display_name": "base",
   "language": "python",
   "name": "python3"
  },
  "language_info": {
   "codemirror_mode": {
    "name": "ipython",
    "version": 3
   },
   "file_extension": ".py",
   "mimetype": "text/x-python",
   "name": "python",
   "nbconvert_exporter": "python",
   "pygments_lexer": "ipython3",
   "version": "3.12.9"
  }
 },
 "nbformat": 4,
 "nbformat_minor": 5
}
